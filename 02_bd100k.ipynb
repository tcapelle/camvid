{
 "cells": [
  {
   "cell_type": "code",
   "execution_count": 1,
   "id": "a4c3822a-a919-421a-a18a-f55ae00c7108",
   "metadata": {},
   "outputs": [
    {
     "name": "stdout",
     "output_type": "stream",
     "text": [
      "  % Total    % Received % Xferd  Average Speed   Time    Time     Time  Current\n",
      "                                 Dload  Upload   Total   Spent    Left  Speed\n",
      "100  958M  100  958M    0     0  85.8M      0  0:00:11  0:00:11 --:--:--  108M\n"
     ]
    }
   ],
   "source": [
    "# get subset of Berkele\n",
    "\n",
    "!curl -SL -qq https://storage.googleapis.com/wandb_datasets/BDD100K_seg_demo.zip > BDD100K_seg_demo.zip\n",
    "!unzip -qq BDD100K_seg_demo.zip"
   ]
  },
  {
   "cell_type": "code",
   "execution_count": 2,
   "id": "6ce91d8d-e59f-4e08-a958-cd191076019a",
   "metadata": {},
   "outputs": [
    {
     "name": "stdout",
     "output_type": "stream",
     "text": [
      "  % Total    % Received % Xferd  Average Speed   Time    Time     Time  Current\n",
      "                                 Dload  Upload   Total   Spent    Left  Speed\n",
      "100  7238  100  7238    0     0  73857      0 --:--:-- --:--:-- --:--:-- 73857\n"
     ]
    }
   ],
   "source": [
    "!curl https://raw.githubusercontent.com/staceysv/dsviz-demo/master/util.py --output util.py"
   ]
  },
  {
   "cell_type": "code",
   "execution_count": null,
   "id": "6eba1c03-caa7-4075-9d9c-dbde3d14d910",
   "metadata": {},
   "outputs": [],
   "source": []
  }
 ],
 "metadata": {
  "kernelspec": {
   "display_name": "Python 3 (ipykernel)",
   "language": "python",
   "name": "python3"
  },
  "language_info": {
   "codemirror_mode": {
    "name": "ipython",
    "version": 3
   },
   "file_extension": ".py",
   "mimetype": "text/x-python",
   "name": "python",
   "nbconvert_exporter": "python",
   "pygments_lexer": "ipython3",
   "version": "3.9.9"
  }
 },
 "nbformat": 4,
 "nbformat_minor": 5
}
