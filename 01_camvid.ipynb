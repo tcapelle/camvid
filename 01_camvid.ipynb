{
 "cells": [
  {
   "cell_type": "code",
   "execution_count": 1,
   "id": "61ae2c4e-f55f-4e27-ac55-f3120368a8e8",
   "metadata": {},
   "outputs": [],
   "source": [
    "import rich\n",
    "from rich import print\n",
    "import wandb\n",
    "import fastai\n",
    "from fastai.vision.all import *\n",
    "from fastai.callback.wandb import WandbCallback\n",
    "\n",
    "set_seed(2022)"
   ]
  },
  {
   "cell_type": "markdown",
   "id": "16fea65d-5984-4be1-a6a9-b67c3b2516ed",
   "metadata": {},
   "source": [
    "# CamVid"
   ]
  },
  {
   "cell_type": "code",
   "execution_count": 2,
   "id": "0801916b-6c77-4a01-b397-84d18e6eb793",
   "metadata": {},
   "outputs": [],
   "source": [
    "path = untar_data(URLs.CAMVID)\n",
    "\n",
    "codes = np.loadtxt(path/'codes.txt', dtype=str)\n",
    "fnames = get_image_files(path/\"images\")"
   ]
  },
  {
   "cell_type": "code",
   "execution_count": 4,
   "id": "7eb676c0-573d-4c66-9747-3243d1602190",
   "metadata": {},
   "outputs": [],
   "source": [
    "def label_func(fn): return path/\"labels\"/f\"{fn.stem}_P{fn.suffix}\""
   ]
  },
  {
   "cell_type": "code",
   "execution_count": 5,
   "id": "5f0b64b1-6f2f-4d77-9a18-2974d75dea5d",
   "metadata": {},
   "outputs": [],
   "source": [
    "# set_seed(2022)\n",
    "# random.sample(fnames, k=int(0.2*len(fnames)), )"
   ]
  },
  {
   "cell_type": "code",
   "execution_count": 6,
   "id": "b59c5cee-cc13-40d1-8808-083907229a64",
   "metadata": {},
   "outputs": [
    {
     "data": {
      "text/plain": [
       "(Path('/home/paperspace/.fastai/data/camvid/images/Seq05VD_f04290.png'),\n",
       " Path('/home/paperspace/.fastai/data/camvid/labels/Seq05VD_f04290_P.png'))"
      ]
     },
     "execution_count": 6,
     "metadata": {},
     "output_type": "execute_result"
    }
   ],
   "source": [
    "fnames[0], label_func(fnames[0])"
   ]
  },
  {
   "cell_type": "markdown",
   "id": "206854f4-4a9a-4b3c-95c1-5aaed4837dc7",
   "metadata": {},
   "source": [
    "we can actually fix the split:"
   ]
  },
  {
   "cell_type": "code",
   "execution_count": 10,
   "id": "b771688f-99fd-468b-a5d6-0303199ecd74",
   "metadata": {},
   "outputs": [],
   "source": [
    "random.seed(2022)\n",
    "val_idxs = random.sample(range_of(len(fnames)), k=int(0.2*len(fnames)))"
   ]
  },
  {
   "cell_type": "code",
   "execution_count": 11,
   "id": "615ad017-b8de-41ae-b6db-4b14f88ee29a",
   "metadata": {},
   "outputs": [],
   "source": [
    "block = DataBlock(blocks =(ImageBlock, MaskBlock(codes=codes)),\n",
    "                  get_y  = label_func,\n",
    "                  item_tfms = Resize((720//4, 960//4)),\n",
    "                  splitter = IndexSplitter(val_idxs))"
   ]
  },
  {
   "cell_type": "code",
   "execution_count": 357,
   "id": "64c5b74f-d47b-4f18-ab16-35712622aecc",
   "metadata": {},
   "outputs": [
    {
     "data": {
      "text/plain": [
       "{Path('/home/paperspace/.fastai/data/camvid/images/0001TP_007080.png'),\n",
       " Path('/home/paperspace/.fastai/data/camvid/images/0001TP_007140.png'),\n",
       " Path('/home/paperspace/.fastai/data/camvid/images/0001TP_007230.png'),\n",
       " Path('/home/paperspace/.fastai/data/camvid/images/0001TP_007830.png'),\n",
       " Path('/home/paperspace/.fastai/data/camvid/images/0001TP_007920.png'),\n",
       " Path('/home/paperspace/.fastai/data/camvid/images/0001TP_008010.png'),\n",
       " Path('/home/paperspace/.fastai/data/camvid/images/0001TP_008340.png'),\n",
       " Path('/home/paperspace/.fastai/data/camvid/images/0001TP_008370.png'),\n",
       " Path('/home/paperspace/.fastai/data/camvid/images/0001TP_008400.png'),\n",
       " Path('/home/paperspace/.fastai/data/camvid/images/0001TP_008460.png'),\n",
       " Path('/home/paperspace/.fastai/data/camvid/images/0001TP_008520.png'),\n",
       " Path('/home/paperspace/.fastai/data/camvid/images/0001TP_008640.png'),\n",
       " Path('/home/paperspace/.fastai/data/camvid/images/0001TP_008670.png'),\n",
       " Path('/home/paperspace/.fastai/data/camvid/images/0001TP_008700.png'),\n",
       " Path('/home/paperspace/.fastai/data/camvid/images/0001TP_008790.png'),\n",
       " Path('/home/paperspace/.fastai/data/camvid/images/0001TP_008970.png'),\n",
       " Path('/home/paperspace/.fastai/data/camvid/images/0001TP_009030.png'),\n",
       " Path('/home/paperspace/.fastai/data/camvid/images/0001TP_009090.png'),\n",
       " Path('/home/paperspace/.fastai/data/camvid/images/0001TP_009120.png'),\n",
       " Path('/home/paperspace/.fastai/data/camvid/images/0001TP_009240.png'),\n",
       " Path('/home/paperspace/.fastai/data/camvid/images/0001TP_009300.png'),\n",
       " Path('/home/paperspace/.fastai/data/camvid/images/0001TP_009810.png'),\n",
       " Path('/home/paperspace/.fastai/data/camvid/images/0001TP_010200.png'),\n",
       " Path('/home/paperspace/.fastai/data/camvid/images/0001TP_010260.png'),\n",
       " Path('/home/paperspace/.fastai/data/camvid/images/0001TP_010380.png'),\n",
       " Path('/home/paperspace/.fastai/data/camvid/images/0006R0_f00990.png'),\n",
       " Path('/home/paperspace/.fastai/data/camvid/images/0006R0_f01350.png'),\n",
       " Path('/home/paperspace/.fastai/data/camvid/images/0006R0_f01560.png'),\n",
       " Path('/home/paperspace/.fastai/data/camvid/images/0006R0_f01920.png'),\n",
       " Path('/home/paperspace/.fastai/data/camvid/images/0006R0_f01980.png'),\n",
       " Path('/home/paperspace/.fastai/data/camvid/images/0006R0_f02130.png'),\n",
       " Path('/home/paperspace/.fastai/data/camvid/images/0006R0_f02220.png'),\n",
       " Path('/home/paperspace/.fastai/data/camvid/images/0006R0_f02310.png'),\n",
       " Path('/home/paperspace/.fastai/data/camvid/images/0006R0_f02340.png'),\n",
       " Path('/home/paperspace/.fastai/data/camvid/images/0006R0_f02520.png'),\n",
       " Path('/home/paperspace/.fastai/data/camvid/images/0006R0_f02580.png'),\n",
       " Path('/home/paperspace/.fastai/data/camvid/images/0006R0_f02610.png'),\n",
       " Path('/home/paperspace/.fastai/data/camvid/images/0006R0_f02640.png'),\n",
       " Path('/home/paperspace/.fastai/data/camvid/images/0006R0_f02730.png'),\n",
       " Path('/home/paperspace/.fastai/data/camvid/images/0006R0_f02760.png'),\n",
       " Path('/home/paperspace/.fastai/data/camvid/images/0006R0_f02790.png'),\n",
       " Path('/home/paperspace/.fastai/data/camvid/images/0006R0_f02820.png'),\n",
       " Path('/home/paperspace/.fastai/data/camvid/images/0006R0_f03150.png'),\n",
       " Path('/home/paperspace/.fastai/data/camvid/images/0006R0_f03210.png'),\n",
       " Path('/home/paperspace/.fastai/data/camvid/images/0006R0_f03360.png'),\n",
       " Path('/home/paperspace/.fastai/data/camvid/images/0006R0_f03480.png'),\n",
       " Path('/home/paperspace/.fastai/data/camvid/images/0006R0_f03630.png'),\n",
       " Path('/home/paperspace/.fastai/data/camvid/images/0016E5_00420.png'),\n",
       " Path('/home/paperspace/.fastai/data/camvid/images/0016E5_00570.png'),\n",
       " Path('/home/paperspace/.fastai/data/camvid/images/0016E5_01140.png'),\n",
       " Path('/home/paperspace/.fastai/data/camvid/images/0016E5_01290.png'),\n",
       " Path('/home/paperspace/.fastai/data/camvid/images/0016E5_01530.png'),\n",
       " Path('/home/paperspace/.fastai/data/camvid/images/0016E5_01800.png'),\n",
       " Path('/home/paperspace/.fastai/data/camvid/images/0016E5_01830.png'),\n",
       " Path('/home/paperspace/.fastai/data/camvid/images/0016E5_01860.png'),\n",
       " Path('/home/paperspace/.fastai/data/camvid/images/0016E5_02220.png'),\n",
       " Path('/home/paperspace/.fastai/data/camvid/images/0016E5_02250.png'),\n",
       " Path('/home/paperspace/.fastai/data/camvid/images/0016E5_02310.png'),\n",
       " Path('/home/paperspace/.fastai/data/camvid/images/0016E5_02400.png'),\n",
       " Path('/home/paperspace/.fastai/data/camvid/images/0016E5_04380.png'),\n",
       " Path('/home/paperspace/.fastai/data/camvid/images/0016E5_04560.png'),\n",
       " Path('/home/paperspace/.fastai/data/camvid/images/0016E5_04650.png'),\n",
       " Path('/home/paperspace/.fastai/data/camvid/images/0016E5_04890.png'),\n",
       " Path('/home/paperspace/.fastai/data/camvid/images/0016E5_04920.png'),\n",
       " Path('/home/paperspace/.fastai/data/camvid/images/0016E5_04980.png'),\n",
       " Path('/home/paperspace/.fastai/data/camvid/images/0016E5_05190.png'),\n",
       " Path('/home/paperspace/.fastai/data/camvid/images/0016E5_05310.png'),\n",
       " Path('/home/paperspace/.fastai/data/camvid/images/0016E5_05400.png'),\n",
       " Path('/home/paperspace/.fastai/data/camvid/images/0016E5_05460.png'),\n",
       " Path('/home/paperspace/.fastai/data/camvid/images/0016E5_05610.png'),\n",
       " Path('/home/paperspace/.fastai/data/camvid/images/0016E5_05790.png'),\n",
       " Path('/home/paperspace/.fastai/data/camvid/images/0016E5_06180.png'),\n",
       " Path('/home/paperspace/.fastai/data/camvid/images/0016E5_06270.png'),\n",
       " Path('/home/paperspace/.fastai/data/camvid/images/0016E5_06390.png'),\n",
       " Path('/home/paperspace/.fastai/data/camvid/images/0016E5_06510.png'),\n",
       " Path('/home/paperspace/.fastai/data/camvid/images/0016E5_06990.png'),\n",
       " Path('/home/paperspace/.fastai/data/camvid/images/0016E5_07080.png'),\n",
       " Path('/home/paperspace/.fastai/data/camvid/images/0016E5_07410.png'),\n",
       " Path('/home/paperspace/.fastai/data/camvid/images/0016E5_07590.png'),\n",
       " Path('/home/paperspace/.fastai/data/camvid/images/0016E5_07620.png'),\n",
       " Path('/home/paperspace/.fastai/data/camvid/images/0016E5_07770.png'),\n",
       " Path('/home/paperspace/.fastai/data/camvid/images/0016E5_07860.png'),\n",
       " Path('/home/paperspace/.fastai/data/camvid/images/0016E5_07963.png'),\n",
       " Path('/home/paperspace/.fastai/data/camvid/images/0016E5_07965.png'),\n",
       " Path('/home/paperspace/.fastai/data/camvid/images/0016E5_07975.png'),\n",
       " Path('/home/paperspace/.fastai/data/camvid/images/0016E5_07983.png'),\n",
       " Path('/home/paperspace/.fastai/data/camvid/images/0016E5_08003.png'),\n",
       " Path('/home/paperspace/.fastai/data/camvid/images/0016E5_08005.png'),\n",
       " Path('/home/paperspace/.fastai/data/camvid/images/0016E5_08013.png'),\n",
       " Path('/home/paperspace/.fastai/data/camvid/images/0016E5_08019.png'),\n",
       " Path('/home/paperspace/.fastai/data/camvid/images/0016E5_08029.png'),\n",
       " Path('/home/paperspace/.fastai/data/camvid/images/0016E5_08031.png'),\n",
       " Path('/home/paperspace/.fastai/data/camvid/images/0016E5_08075.png'),\n",
       " Path('/home/paperspace/.fastai/data/camvid/images/0016E5_08077.png'),\n",
       " Path('/home/paperspace/.fastai/data/camvid/images/0016E5_08081.png'),\n",
       " Path('/home/paperspace/.fastai/data/camvid/images/0016E5_08095.png'),\n",
       " Path('/home/paperspace/.fastai/data/camvid/images/0016E5_08103.png'),\n",
       " Path('/home/paperspace/.fastai/data/camvid/images/0016E5_08133.png'),\n",
       " Path('/home/paperspace/.fastai/data/camvid/images/0016E5_08135.png'),\n",
       " Path('/home/paperspace/.fastai/data/camvid/images/0016E5_08145.png'),\n",
       " Path('/home/paperspace/.fastai/data/camvid/images/0016E5_08151.png'),\n",
       " Path('/home/paperspace/.fastai/data/camvid/images/0016E5_08157.png'),\n",
       " Path('/home/paperspace/.fastai/data/camvid/images/0016E5_08190.png'),\n",
       " Path('/home/paperspace/.fastai/data/camvid/images/0016E5_08280.png'),\n",
       " Path('/home/paperspace/.fastai/data/camvid/images/Seq05VD_f00150.png'),\n",
       " Path('/home/paperspace/.fastai/data/camvid/images/Seq05VD_f00180.png'),\n",
       " Path('/home/paperspace/.fastai/data/camvid/images/Seq05VD_f00360.png'),\n",
       " Path('/home/paperspace/.fastai/data/camvid/images/Seq05VD_f00570.png'),\n",
       " Path('/home/paperspace/.fastai/data/camvid/images/Seq05VD_f00600.png'),\n",
       " Path('/home/paperspace/.fastai/data/camvid/images/Seq05VD_f00630.png'),\n",
       " Path('/home/paperspace/.fastai/data/camvid/images/Seq05VD_f00720.png'),\n",
       " Path('/home/paperspace/.fastai/data/camvid/images/Seq05VD_f00960.png'),\n",
       " Path('/home/paperspace/.fastai/data/camvid/images/Seq05VD_f01200.png'),\n",
       " Path('/home/paperspace/.fastai/data/camvid/images/Seq05VD_f01440.png'),\n",
       " Path('/home/paperspace/.fastai/data/camvid/images/Seq05VD_f01620.png'),\n",
       " Path('/home/paperspace/.fastai/data/camvid/images/Seq05VD_f01830.png'),\n",
       " Path('/home/paperspace/.fastai/data/camvid/images/Seq05VD_f01860.png'),\n",
       " Path('/home/paperspace/.fastai/data/camvid/images/Seq05VD_f02130.png'),\n",
       " Path('/home/paperspace/.fastai/data/camvid/images/Seq05VD_f02160.png'),\n",
       " Path('/home/paperspace/.fastai/data/camvid/images/Seq05VD_f02220.png'),\n",
       " Path('/home/paperspace/.fastai/data/camvid/images/Seq05VD_f02550.png'),\n",
       " Path('/home/paperspace/.fastai/data/camvid/images/Seq05VD_f02970.png'),\n",
       " Path('/home/paperspace/.fastai/data/camvid/images/Seq05VD_f03090.png'),\n",
       " Path('/home/paperspace/.fastai/data/camvid/images/Seq05VD_f03210.png'),\n",
       " Path('/home/paperspace/.fastai/data/camvid/images/Seq05VD_f03480.png'),\n",
       " Path('/home/paperspace/.fastai/data/camvid/images/Seq05VD_f03570.png'),\n",
       " Path('/home/paperspace/.fastai/data/camvid/images/Seq05VD_f03750.png'),\n",
       " Path('/home/paperspace/.fastai/data/camvid/images/Seq05VD_f03930.png'),\n",
       " Path('/home/paperspace/.fastai/data/camvid/images/Seq05VD_f03990.png'),\n",
       " Path('/home/paperspace/.fastai/data/camvid/images/Seq05VD_f04320.png'),\n",
       " Path('/home/paperspace/.fastai/data/camvid/images/Seq05VD_f04380.png'),\n",
       " Path('/home/paperspace/.fastai/data/camvid/images/Seq05VD_f04410.png'),\n",
       " Path('/home/paperspace/.fastai/data/camvid/images/Seq05VD_f04620.png'),\n",
       " Path('/home/paperspace/.fastai/data/camvid/images/Seq05VD_f04770.png'),\n",
       " Path('/home/paperspace/.fastai/data/camvid/images/Seq05VD_f04830.png'),\n",
       " Path('/home/paperspace/.fastai/data/camvid/images/Seq05VD_f04890.png'),\n",
       " Path('/home/paperspace/.fastai/data/camvid/images/Seq05VD_f04920.png'),\n",
       " Path('/home/paperspace/.fastai/data/camvid/images/Seq05VD_f04950.png'),\n",
       " Path('/home/paperspace/.fastai/data/camvid/images/Seq05VD_f05010.png'),\n",
       " Path('/home/paperspace/.fastai/data/camvid/images/Seq05VD_f05040.png')}"
      ]
     },
     "execution_count": 357,
     "metadata": {},
     "output_type": "execute_result"
    }
   ],
   "source": [
    "# set_seed(2022)\n",
    "\n",
    "dls = SegmentationDataLoaders.from_label_func(\n",
    "    path, \n",
    "    bs=8, \n",
    "    fnames = fnames, \n",
    "    label_func = label_func, \n",
    "    codes = codes, \n",
    "    item_tfms = Resize((720//4, \n",
    "                        960//4)),\n",
    "    # batch_tfms = tfms,\n",
    ")\n",
    "\n",
    "set(dls.valid.dataset.items)"
   ]
  },
  {
   "cell_type": "markdown",
   "id": "46c3a47c-d1ff-4858-a384-da122bdf0007",
   "metadata": {},
   "source": [
    "## Table"
   ]
  },
  {
   "cell_type": "code",
   "execution_count": 25,
   "id": "8c122db2-fdad-451a-bab6-127d87252205",
   "metadata": {},
   "outputs": [],
   "source": [
    "class_labels = {i:c for i,c in enumerate(codes)}"
   ]
  },
  {
   "cell_type": "code",
   "execution_count": 27,
   "id": "320143b1-16e9-4309-82be-31ab856a2b91",
   "metadata": {},
   "outputs": [
    {
     "data": {
      "text/plain": [
       "{0: 'Animal',\n",
       " 1: 'Archway',\n",
       " 2: 'Bicyclist',\n",
       " 3: 'Bridge',\n",
       " 4: 'Building',\n",
       " 5: 'Car',\n",
       " 6: 'CartLuggagePram',\n",
       " 7: 'Child',\n",
       " 8: 'Column_Pole',\n",
       " 9: 'Fence',\n",
       " 10: 'LaneMkgsDriv',\n",
       " 11: 'LaneMkgsNonDriv',\n",
       " 12: 'Misc_Text',\n",
       " 13: 'MotorcycleScooter',\n",
       " 14: 'OtherMoving',\n",
       " 15: 'ParkingBlock',\n",
       " 16: 'Pedestrian',\n",
       " 17: 'Road',\n",
       " 18: 'RoadShoulder',\n",
       " 19: 'Sidewalk',\n",
       " 20: 'SignSymbol',\n",
       " 21: 'Sky',\n",
       " 22: 'SUVPickupTruck',\n",
       " 23: 'TrafficCone',\n",
       " 24: 'TrafficLight',\n",
       " 25: 'Train',\n",
       " 26: 'Tree',\n",
       " 27: 'Truck_Bus',\n",
       " 28: 'Tunnel',\n",
       " 29: 'VegetationMisc',\n",
       " 30: 'Void',\n",
       " 31: 'Wall'}"
      ]
     },
     "execution_count": 27,
     "metadata": {},
     "output_type": "execute_result"
    }
   ],
   "source": [
    "class_labels"
   ]
  },
  {
   "cell_type": "code",
   "execution_count": 6,
   "id": "b0ea2e61-1d76-4abf-af17-ac2dbd4aa93d",
   "metadata": {},
   "outputs": [],
   "source": [
    "def get_preds(learn):\n",
    "    inp,preds,targs,out = learn.get_preds(with_input=True, with_decoded=True)\n",
    "    b = tuplify(inp) + tuplify(targs)\n",
    "    x, y, samples,outs = learn.dls.valid.show_results(b, out, show=False, max_n=36)\n",
    "    return samples, outs, preds"
   ]
  },
  {
   "cell_type": "code",
   "execution_count": 7,
   "id": "9896a739-4ea1-4ee1-801f-d8d828c4b8ff",
   "metadata": {},
   "outputs": [],
   "source": [
    "def create_table(samples, outs, preds):\n",
    "    \"Creates a wandb table with preds and targets side by side\"\n",
    "    res = []\n",
    "    table = wandb.Table(columns=[\"image\", \"preds\", \"targets\"])\n",
    "    for (image, label), pred_label in zip(samples, outs):\n",
    "        img = image.permute(1,2,0)\n",
    "        table.add_data(wandb.Image(img),\n",
    "                       wandb.Image(img, masks={\"pred\":  {'mask_data':  pred_label[0].numpy(), 'class_labels':class_labels}}),\n",
    "                       wandb.Image(img, masks={\"target\": {'mask_data': label.numpy(), 'class_labels':class_labels}}))\n",
    "    return table"
   ]
  },
  {
   "cell_type": "markdown",
   "id": "a39268dd-e8e2-4d13-b71e-43a1949b9bbd",
   "metadata": {},
   "source": [
    "## Prepare for sweep"
   ]
  },
  {
   "cell_type": "code",
   "execution_count": 12,
   "id": "b00cb061-b9dc-4702-a80b-2ef9878db3bf",
   "metadata": {},
   "outputs": [],
   "source": [
    "#ready for sweeps\n",
    "config = {\"arch\": \"resnet34\",\n",
    "          \"batch_size\": 16,\n",
    "          \"loss_func\": \"FocalLossFlat\",\n",
    "          \"lr\": 0.002,\n",
    "          \"resize_factor\":4}\n",
    "\n",
    "def run_train(config=None):\n",
    "    with wandb.init(config=config):\n",
    "        config = wandb.config\n",
    "        logger = WandbCallback(log_preds=False)\n",
    "        \n",
    "        # dataloaders\n",
    "        # tfms = aug_transforms()\n",
    "        dls = SegmentationDataLoaders.from_label_func(\n",
    "            path, \n",
    "            bs=config.batch_size, \n",
    "            fnames = fnames, \n",
    "            label_func = label_func, \n",
    "            codes = codes, \n",
    "            item_tfms = Resize((720//config.resize_factor, \n",
    "                                960//config.resize_factor)),\n",
    "            # batch_tfms = tfms,\n",
    "        )\n",
    "\n",
    "        # model\n",
    "        cbs = [SaveModelCallback(fname=f\"unet_{config.arch}\"), logger, MixedPrecision()]\n",
    "        \n",
    "        loss_func = getattr(fastai.losses, config.loss_func)(axis=1)\n",
    "        model = {\"resnet34\":resnet34, \"xresnet34\":xresnet34, \"xresnext34\":xresnext34}\n",
    "        learn = unet_learner(dls, \n",
    "                             model[config.arch],\n",
    "                             metrics = [DiceMulti(), foreground_acc],\n",
    "                             loss_func = loss_func,\n",
    "                             cbs = cbs)\n",
    "        learn.fine_tune(10, base_lr=config.lr)"
   ]
  },
  {
   "cell_type": "code",
   "execution_count": 14,
   "id": "4f28cda4-2804-4643-984d-8d5dadfdde14",
   "metadata": {},
   "outputs": [],
   "source": [
    "def get_data(batch_size, resize_factor=4, augment=True, seed=2022):\n",
    "    \"Get dataloader\"\n",
    "    # get dataset\n",
    "    path = untar_data(URLs.CAMVID)\n",
    "    codes = np.loadtxt(path/'codes.txt', dtype=str)\n",
    "    fnames = get_image_files(path/\"images\")\n",
    "    \n",
    "    # datalaoders\n",
    "    tfms = aug_transforms() if augment else None\n",
    "    dls = SegmentationDataLoaders.from_label_func(\n",
    "        path, \n",
    "        bs=batch_size, \n",
    "        fnames = fnames, \n",
    "        label_func = label_func, \n",
    "        codes = codes, \n",
    "        seed = seed,\n",
    "        item_tfms = Resize((720//resize_factor, \n",
    "                            960//resize_factor)),\n",
    "        batch_tfms = tfms,\n",
    "    )\n",
    "    return dls"
   ]
  },
  {
   "cell_type": "code",
   "execution_count": 15,
   "id": "854eec79-5457-4758-883d-2a9025ee8a3f",
   "metadata": {},
   "outputs": [],
   "source": [
    "dls = get_data(batch_size=8)"
   ]
  },
  {
   "cell_type": "code",
   "execution_count": 23,
   "id": "dedd825f-9d1e-4d50-b0cd-861c41a6a019",
   "metadata": {},
   "outputs": [],
   "source": [
    "def get_learner(dls, arch, loss_func):\n",
    "    cbs = [SaveModelCallback(fname=f\"unet_{arch}\"), \n",
    "           WandbCallback(log_preds=False), \n",
    "           MixedPrecision()]\n",
    "\n",
    "    learn = unet_learner(dls, \n",
    "                         arch,\n",
    "                         metrics = [DiceMulti(), foreground_acc],\n",
    "                         loss_func = loss_func(axis=1),\n",
    "                         cbs = cbs)\n",
    "    return learn"
   ]
  },
  {
   "cell_type": "code",
   "execution_count": 24,
   "id": "87c77777-0097-4070-b198-3e35489de51f",
   "metadata": {},
   "outputs": [
    {
     "name": "stderr",
     "output_type": "stream",
     "text": [
      "Failed to detect the name of this notebook, you can set it manually with the WANDB_NOTEBOOK_NAME environment variable to enable code saving.\n",
      "\u001b[34m\u001b[1mwandb\u001b[0m: Currently logged in as: \u001b[33mtcapelle\u001b[0m (use `wandb login --relogin` to force relogin)\n"
     ]
    },
    {
     "data": {
      "text/html": [
       "\n",
       "                    Syncing run <strong><a href=\"https://wandb.ai/hydranet/CamVid/runs/fp0mr5xy\" target=\"_blank\">baseline</a></strong> to <a href=\"https://wandb.ai/hydranet/CamVid\" target=\"_blank\">Weights & Biases</a> (<a href=\"https://docs.wandb.com/integrations/jupyter.html\" target=\"_blank\">docs</a>).<br/>\n",
       "\n",
       "                "
      ],
      "text/plain": [
       "<IPython.core.display.HTML object>"
      ]
     },
     "metadata": {},
     "output_type": "display_data"
    },
    {
     "data": {
      "text/html": [
       "<table border=\"1\" class=\"dataframe\">\n",
       "  <thead>\n",
       "    <tr style=\"text-align: left;\">\n",
       "      <th>epoch</th>\n",
       "      <th>train_loss</th>\n",
       "      <th>valid_loss</th>\n",
       "      <th>dice_multi</th>\n",
       "      <th>foreground_acc</th>\n",
       "      <th>time</th>\n",
       "    </tr>\n",
       "  </thead>\n",
       "  <tbody>\n",
       "    <tr>\n",
       "      <td>0</td>\n",
       "      <td>1.646285</td>\n",
       "      <td>0.870226</td>\n",
       "      <td>0.078594</td>\n",
       "      <td>0.629438</td>\n",
       "      <td>00:16</td>\n",
       "    </tr>\n",
       "  </tbody>\n",
       "</table>"
      ],
      "text/plain": [
       "<IPython.core.display.HTML object>"
      ]
     },
     "metadata": {},
     "output_type": "display_data"
    },
    {
     "name": "stdout",
     "output_type": "stream",
     "text": [
      "Better model found at epoch 0 with valid_loss value: 0.8702263832092285.\n"
     ]
    },
    {
     "data": {
      "text/html": [
       "<table border=\"1\" class=\"dataframe\">\n",
       "  <thead>\n",
       "    <tr style=\"text-align: left;\">\n",
       "      <th>epoch</th>\n",
       "      <th>train_loss</th>\n",
       "      <th>valid_loss</th>\n",
       "      <th>dice_multi</th>\n",
       "      <th>foreground_acc</th>\n",
       "      <th>time</th>\n",
       "    </tr>\n",
       "  </thead>\n",
       "  <tbody>\n",
       "    <tr>\n",
       "      <td>0</td>\n",
       "      <td>0.735549</td>\n",
       "      <td>0.600424</td>\n",
       "      <td>0.147459</td>\n",
       "      <td>0.738320</td>\n",
       "      <td>00:08</td>\n",
       "    </tr>\n",
       "    <tr>\n",
       "      <td>1</td>\n",
       "      <td>0.618079</td>\n",
       "      <td>0.474655</td>\n",
       "      <td>0.211528</td>\n",
       "      <td>0.806193</td>\n",
       "      <td>00:08</td>\n",
       "    </tr>\n",
       "    <tr>\n",
       "      <td>2</td>\n",
       "      <td>0.525309</td>\n",
       "      <td>0.402983</td>\n",
       "      <td>0.252186</td>\n",
       "      <td>0.812491</td>\n",
       "      <td>00:08</td>\n",
       "    </tr>\n",
       "    <tr>\n",
       "      <td>3</td>\n",
       "      <td>0.457929</td>\n",
       "      <td>0.362936</td>\n",
       "      <td>0.306893</td>\n",
       "      <td>0.825831</td>\n",
       "      <td>00:08</td>\n",
       "    </tr>\n",
       "    <tr>\n",
       "      <td>4</td>\n",
       "      <td>0.397234</td>\n",
       "      <td>0.307702</td>\n",
       "      <td>0.331151</td>\n",
       "      <td>0.847895</td>\n",
       "      <td>00:08</td>\n",
       "    </tr>\n",
       "    <tr>\n",
       "      <td>5</td>\n",
       "      <td>0.346901</td>\n",
       "      <td>0.278763</td>\n",
       "      <td>0.363740</td>\n",
       "      <td>0.859010</td>\n",
       "      <td>00:07</td>\n",
       "    </tr>\n",
       "    <tr>\n",
       "      <td>6</td>\n",
       "      <td>0.307311</td>\n",
       "      <td>0.259840</td>\n",
       "      <td>0.379878</td>\n",
       "      <td>0.869012</td>\n",
       "      <td>00:08</td>\n",
       "    </tr>\n",
       "    <tr>\n",
       "      <td>7</td>\n",
       "      <td>0.276900</td>\n",
       "      <td>0.250251</td>\n",
       "      <td>0.407051</td>\n",
       "      <td>0.870738</td>\n",
       "      <td>00:08</td>\n",
       "    </tr>\n",
       "    <tr>\n",
       "      <td>8</td>\n",
       "      <td>0.254385</td>\n",
       "      <td>0.238473</td>\n",
       "      <td>0.430604</td>\n",
       "      <td>0.876575</td>\n",
       "      <td>00:08</td>\n",
       "    </tr>\n",
       "    <tr>\n",
       "      <td>9</td>\n",
       "      <td>0.239340</td>\n",
       "      <td>0.237122</td>\n",
       "      <td>0.432295</td>\n",
       "      <td>0.876373</td>\n",
       "      <td>00:08</td>\n",
       "    </tr>\n",
       "  </tbody>\n",
       "</table>"
      ],
      "text/plain": [
       "<IPython.core.display.HTML object>"
      ]
     },
     "metadata": {},
     "output_type": "display_data"
    },
    {
     "name": "stdout",
     "output_type": "stream",
     "text": [
      "Better model found at epoch 0 with valid_loss value: 0.60042405128479.\n",
      "Better model found at epoch 1 with valid_loss value: 0.4746551513671875.\n",
      "Better model found at epoch 2 with valid_loss value: 0.40298303961753845.\n",
      "Better model found at epoch 3 with valid_loss value: 0.36293649673461914.\n",
      "Better model found at epoch 4 with valid_loss value: 0.3077024519443512.\n",
      "Better model found at epoch 5 with valid_loss value: 0.2787632942199707.\n",
      "Better model found at epoch 6 with valid_loss value: 0.25984030961990356.\n",
      "Better model found at epoch 7 with valid_loss value: 0.25025123357772827.\n",
      "Better model found at epoch 8 with valid_loss value: 0.2384731024503708.\n",
      "Better model found at epoch 9 with valid_loss value: 0.23712177574634552.\n"
     ]
    },
    {
     "data": {
      "text/html": [
       "<br/>Waiting for W&B process to finish, PID 8613... <strong style=\"color:green\">(success).</strong>"
      ],
      "text/plain": [
       "<IPython.core.display.HTML object>"
      ]
     },
     "metadata": {},
     "output_type": "display_data"
    },
    {
     "data": {
      "application/vnd.jupyter.widget-view+json": {
       "model_id": "",
       "version_major": 2,
       "version_minor": 0
      },
      "text/plain": [
       "VBox(children=(Label(value=' 314.84MB of 314.84MB uploaded (0.00MB deduped)\\r'), FloatProgress(value=1.0, max=…"
      ]
     },
     "metadata": {},
     "output_type": "display_data"
    },
    {
     "data": {
      "text/html": [
       "<style>\n",
       "    table.wandb td:nth-child(1) { padding: 0 10px; text-align: right }\n",
       "    .wandb-row { display: flex; flex-direction: row; flex-wrap: wrap; width: 100% }\n",
       "    .wandb-col { display: flex; flex-direction: column; flex-basis: 100%; flex: 1; padding: 10px; }\n",
       "    </style>\n",
       "<div class=\"wandb-row\"><div class=\"wandb-col\">\n",
       "<h3>Run history:</h3><br/><table class=\"wandb\"><tr><td>dice_multi</td><td>▁▂▄▄▆▆▇▇███</td></tr><tr><td>epoch</td><td>▁▁▁▂▂▂▂▂▂▃▃▃▃▃▄▄▄▄▄▄▅▅▅▅▅▅▆▆▆▆▆▇▇▇▇▇▇███</td></tr><tr><td>eps_0</td><td>▁▁▁▁▁▁▁▁▁▁▁▁▁▁▁▁▁▁▁▁▁▁▁▁▁▁▁▁▁▁▁▁▁▁▁▁▁▁▁▁</td></tr><tr><td>eps_1</td><td>▁▁▁▁▁▁▁▁▁▁▁▁▁▁▁▁▁▁▁▁▁▁▁▁▁▁▁▁▁▁▁▁▁▁▁▁▁▁▁▁</td></tr><tr><td>eps_2</td><td>▁▁▁▁▁▁▁▁▁▁▁▁▁▁▁▁▁▁▁▁▁▁▁▁▁▁▁▁▁▁▁▁▁▁▁▁▁▁▁▁</td></tr><tr><td>foreground_acc</td><td>▁▄▆▆▇▇█████</td></tr><tr><td>lr_0</td><td>▁▃▅█▁▁▁▁▁▁▁▁▁▁▁▁▁▁▁▁▁▁▁▁▁▁▁▁▁▁▁▁▁▁▁▁▁▁▁▁</td></tr><tr><td>lr_1</td><td>▁▃▅█▂▂▂▂▃▃▄▄▄▄▅▅▅▄▄▄▄▄▄▄▃▃▃▃▃▂▂▂▂▂▁▁▁▁▁▁</td></tr><tr><td>lr_2</td><td>▁▃▅█▂▂▂▂▃▃▄▄▄▄▅▅▅▄▄▄▄▄▄▄▃▃▃▃▃▂▂▂▂▂▁▁▁▁▁▁</td></tr><tr><td>mom_0</td><td>█▆▄▁██▇▆▅▅▃▃▂▁▁▁▁▁▁▂▂▂▂▃▃▄▄▅▅▅▆▆▇▇▇█████</td></tr><tr><td>mom_1</td><td>█▆▄▁██▇▆▅▅▃▃▂▁▁▁▁▁▁▂▂▂▂▃▃▄▄▅▅▅▆▆▇▇▇█████</td></tr><tr><td>mom_2</td><td>█▆▄▁██▇▆▅▅▃▃▂▁▁▁▁▁▁▂▂▂▂▃▃▄▄▅▅▅▆▆▇▇▇█████</td></tr><tr><td>raw_loss</td><td>█▆▅▃▃▃▃▂▂▂▂▂▂▂▂▂▂▂▁▁▂▁▁▁▁▁▁▁▁▁▁▁▁▁▁▁▁▁▁▁</td></tr><tr><td>sqr_mom_0</td><td>▁▁▁▁▁▁▁▁▁▁▁▁▁▁▁▁▁▁▁▁▁▁▁▁▁▁▁▁▁▁▁▁▁▁▁▁▁▁▁▁</td></tr><tr><td>sqr_mom_1</td><td>▁▁▁▁▁▁▁▁▁▁▁▁▁▁▁▁▁▁▁▁▁▁▁▁▁▁▁▁▁▁▁▁▁▁▁▁▁▁▁▁</td></tr><tr><td>sqr_mom_2</td><td>▁▁▁▁▁▁▁▁▁▁▁▁▁▁▁▁▁▁▁▁▁▁▁▁▁▁▁▁▁▁▁▁▁▁▁▁▁▁▁▁</td></tr><tr><td>train_loss</td><td>█▆▆▅▃▃▂▂▂▂▂▂▂▂▂▂▂▂▂▂▁▁▁▁▁▁▁▁▁▁▁▁▁▁▁▁▁▁▁▁</td></tr><tr><td>valid_loss</td><td>█▅▄▃▂▂▁▁▁▁▁</td></tr><tr><td>wd_0</td><td>▁▁▁▁▁▁▁▁▁▁▁▁▁▁▁▁▁▁▁▁▁▁▁▁▁▁▁▁▁▁▁▁▁▁▁▁▁▁▁▁</td></tr><tr><td>wd_1</td><td>▁▁▁▁▁▁▁▁▁▁▁▁▁▁▁▁▁▁▁▁▁▁▁▁▁▁▁▁▁▁▁▁▁▁▁▁▁▁▁▁</td></tr><tr><td>wd_2</td><td>▁▁▁▁▁▁▁▁▁▁▁▁▁▁▁▁▁▁▁▁▁▁▁▁▁▁▁▁▁▁▁▁▁▁▁▁▁▁▁▁</td></tr></table><br/></div><div class=\"wandb-col\">\n",
       "<h3>Run summary:</h3><br/><table class=\"wandb\"><tr><td>dice_multi</td><td>0.4323</td></tr><tr><td>epoch</td><td>11</td></tr><tr><td>eps_0</td><td>1e-05</td></tr><tr><td>eps_1</td><td>1e-05</td></tr><tr><td>eps_2</td><td>1e-05</td></tr><tr><td>foreground_acc</td><td>0.87637</td></tr><tr><td>lr_0</td><td>0.0</td></tr><tr><td>lr_1</td><td>0.0</td></tr><tr><td>lr_2</td><td>0.0</td></tr><tr><td>mom_0</td><td>0.95</td></tr><tr><td>mom_1</td><td>0.95</td></tr><tr><td>mom_2</td><td>0.95</td></tr><tr><td>raw_loss</td><td>0.19623</td></tr><tr><td>sqr_mom_0</td><td>0.99</td></tr><tr><td>sqr_mom_1</td><td>0.99</td></tr><tr><td>sqr_mom_2</td><td>0.99</td></tr><tr><td>train_loss</td><td>0.23934</td></tr><tr><td>valid_loss</td><td>0.23712</td></tr><tr><td>wd_0</td><td>0.01</td></tr><tr><td>wd_1</td><td>0.01</td></tr><tr><td>wd_2</td><td>0.01</td></tr></table>\n",
       "</div></div>\n",
       "Synced 6 W&B file(s), 0 media file(s), 2 artifact file(s) and 0 other file(s)\n",
       "<br/>Synced <strong style=\"color:#cdcd00\">baseline</strong>: <a href=\"https://wandb.ai/hydranet/CamVid/runs/fp0mr5xy\" target=\"_blank\">https://wandb.ai/hydranet/CamVid/runs/fp0mr5xy</a><br/>\n",
       "Find logs at: <code>./wandb/run-20220128_133143-fp0mr5xy/logs</code><br/>\n"
      ],
      "text/plain": [
       "<IPython.core.display.HTML object>"
      ]
     },
     "metadata": {},
     "output_type": "display_data"
    }
   ],
   "source": [
    "config = {\"arch\": \"resnet34\",\n",
    "          \"batch_size\": 16,\n",
    "          \"loss_func\": \"FocalLossFlat\",\n",
    "          \"lr\": 0.002,\n",
    "          \"resize_factor\":4,\n",
    "          \"augment\":True}\n",
    "\n",
    "with wandb.init(project=\"CamVid\", entity=\"hydranet\", name=\"baseline\", config=config):\n",
    "    config = wandb.config\n",
    "    dls = get_data(config.batch_size, config.resize_factor, config.augment)\n",
    "    \n",
    "    archs = {\"resnet34\":resnet34, \"xresnet34\":xresnet34, \"xresnext34\":xresnext34}\n",
    "    learn = get_learner(dls, archs[config.arch], getattr(fastai.losses, config.loss_func))\n",
    "    learn.fine_tune(10, base_lr=config.lr)"
   ]
  },
  {
   "cell_type": "code",
   "execution_count": null,
   "id": "b821dc08-f362-49f7-aaa0-0e9ac1fbddb4",
   "metadata": {},
   "outputs": [],
   "source": []
  },
  {
   "cell_type": "code",
   "execution_count": null,
   "id": "586666fc-45d9-402b-8025-eedc05a563b7",
   "metadata": {},
   "outputs": [],
   "source": []
  },
  {
   "cell_type": "code",
   "execution_count": 12,
   "id": "dc1b9c14-7641-4765-9aa4-a0baf9697e85",
   "metadata": {},
   "outputs": [],
   "source": [
    "run_train(config)"
   ]
  },
  {
   "cell_type": "code",
   "execution_count": null,
   "id": "1c7e8551-a69d-4b07-ac7a-d2fd29cd7ae7",
   "metadata": {},
   "outputs": [],
   "source": [
    "def log_table(learn):\n",
    "    table = create_table(*get_preds(learn))\n",
    "    wandb.log({\"Predictions\":table})"
   ]
  },
  {
   "cell_type": "code",
   "execution_count": 8,
   "id": "9b105528-65fe-47a5-b5d8-b7d065f1b6ad",
   "metadata": {},
   "outputs": [],
   "source": [
    "class CombinedLoss:\n",
    "    \"Dice and Focal combined\"\n",
    "    def __init__(self, axis=1, smooth=1, alpha=1):\n",
    "        store_attr()\n",
    "        self.focal_loss = FocalLossFlat(axis=axis)\n",
    "        self.dice_loss =  DiceLoss(axis, smooth)\n",
    "        \n",
    "    def __call__(self, pred, targ):\n",
    "        return self.focal_loss(pred, targ) + self.alpha * self.dice_loss(pred, targ)\n",
    "    \n",
    "    def decodes(self, x):    return x.argmax(dim=self.axis)\n",
    "    def activation(self, x): return F.softmax(x, dim=self.axis)"
   ]
  },
  {
   "cell_type": "code",
   "execution_count": null,
   "id": "453e7bc7-7b1d-473d-b4cb-2491149859af",
   "metadata": {},
   "outputs": [],
   "source": []
  },
  {
   "cell_type": "code",
   "execution_count": null,
   "id": "b779f255-ebeb-4df8-b7a3-152cb835f00c",
   "metadata": {},
   "outputs": [],
   "source": []
  },
  {
   "cell_type": "markdown",
   "id": "386f6ee1-f729-46fd-9f10-fa58b182a246",
   "metadata": {
    "jp-MarkdownHeadingCollapsed": true,
    "tags": []
   },
   "source": [
    "## MLP"
   ]
  },
  {
   "cell_type": "code",
   "execution_count": 106,
   "id": "24799435-b6b6-491d-ab7b-1f33709312ab",
   "metadata": {},
   "outputs": [],
   "source": [
    "from torch import nn\n",
    "from functools import partial\n",
    "from einops.layers.torch import Rearrange, Reduce\n",
    "\n",
    "class PreNormResidual(nn.Module):\n",
    "    def __init__(self, dim, fn):\n",
    "        super().__init__()\n",
    "        self.fn = fn\n",
    "        self.norm = nn.LayerNorm(dim)\n",
    "\n",
    "    def forward(self, x):\n",
    "        return self.fn(self.norm(x)) + x\n",
    "\n",
    "def FeedForward(dim, expansion_factor = 4, dropout = 0., dense = nn.Linear):\n",
    "    return nn.Sequential(\n",
    "        dense(dim, dim * expansion_factor),\n",
    "        nn.GELU(),\n",
    "        nn.Dropout(dropout),\n",
    "        dense(dim * expansion_factor, dim),\n",
    "        nn.Dropout(dropout)\n",
    "    )\n",
    "\n",
    "def MLPSegmentationMixer(image_size, channels, patch_size, dim, depth, out_channels=3, expansion_factor = 4, dropout = 0.):\n",
    "    assert (image_size[0] % patch_size) == 0, 'image must be divisible by patch size'\n",
    "    h, w = (image_size[0] // patch_size) , (image_size[1] // patch_size) \n",
    "    num_patches = h*w\n",
    "    chan_first, chan_last = partial(nn.Conv1d, kernel_size = 1), nn.Linear\n",
    "\n",
    "    return nn.Sequential(\n",
    "        Rearrange('b c (h p1) (w p2) -> b (h w) (p1 p2 c)', p1 = patch_size, p2 = patch_size),\n",
    "        nn.Linear((patch_size ** 2) * channels, dim),\n",
    "        *[nn.Sequential(\n",
    "            PreNormResidual(dim, FeedForward(num_patches, expansion_factor, dropout, chan_first)),\n",
    "            PreNormResidual(dim, FeedForward(dim, expansion_factor, dropout, chan_last))\n",
    "        ) for _ in range(depth)],\n",
    "        nn.LayerNorm(dim),\n",
    "        nn.Linear(dim, (patch_size ** 2) * out_channels),\n",
    "        Rearrange('b (h w) (p1 p2 c) -> b c (h p1) (w p2)', c=out_channels, h=h, p1 = patch_size, p2 = patch_size),\n",
    "    )"
   ]
  },
  {
   "cell_type": "code",
   "execution_count": 134,
   "id": "70e0a6e7-21df-44cb-9d2c-943df79dfa78",
   "metadata": {},
   "outputs": [],
   "source": [
    "mlp_mixer = MLPSegmentationMixer((180, 240), 3, 20, 1024, 6, len(codes))"
   ]
  },
  {
   "cell_type": "code",
   "execution_count": 135,
   "id": "f79894dd-ead0-4a07-bd12-94e0b792ca77",
   "metadata": {},
   "outputs": [],
   "source": [
    "dls = SegmentationDataLoaders.from_label_func(\n",
    "    path, bs=64, fnames = fnames, label_func = label_func, codes = codes, item_tfms=Resize((360//2,480//2))\n",
    ")"
   ]
  },
  {
   "cell_type": "code",
   "execution_count": 136,
   "id": "66e7d8a3-2e39-4e2f-a51c-6339083e2300",
   "metadata": {},
   "outputs": [],
   "source": [
    "learn2 = Learner(dls, mlp_mixer, loss_func=CrossEntropyLossFlat(axis=1), metrics=[DiceMulti(), foreground_acc])"
   ]
  },
  {
   "cell_type": "code",
   "execution_count": 137,
   "id": "d2f0f039-bb1f-4dc0-a759-c7e05432f8f7",
   "metadata": {},
   "outputs": [
    {
     "data": {
      "text/html": [],
      "text/plain": [
       "<IPython.core.display.HTML object>"
      ]
     },
     "metadata": {},
     "output_type": "display_data"
    },
    {
     "data": {
      "text/plain": [
       "SuggestedLRs(valley=0.00013182566908653826)"
      ]
     },
     "execution_count": 137,
     "metadata": {},
     "output_type": "execute_result"
    },
    {
     "data": {
      "image/png": "[encoded data removed]",
      "text/plain": [
       "<Figure size 432x288 with 1 Axes>"
      ]
     },
     "metadata": {
      "needs_background": "light"
     },
     "output_type": "display_data"
    }
   ],
   "source": [
    "learn2.lr_find()"
   ]
  },
  {
   "cell_type": "code",
   "execution_count": 133,
   "id": "838d9ea3-00eb-4a5f-b2c2-40a2df5e3b5f",
   "metadata": {},
   "outputs": [
    {
     "data": {
      "text/html": [
       "\n",
       "    <div>\n",
       "        <style>\n",
       "            /* Turns off some styling */\n",
       "            progress {\n",
       "                /* gets rid of default border in Firefox and Opera. */\n",
       "                border: none;\n",
       "                /* Needs to be in here for Safari polyfill so background images work as expected. */\n",
       "                background-size: auto;\n",
       "            }\n",
       "            .progress-bar-interrupted, .progress-bar-interrupted::-webkit-progress-bar {\n",
       "                background: #F44336;\n",
       "            }\n",
       "        </style>\n",
       "      <progress value='8' class='' max='10' style='width:300px; height:20px; vertical-align: middle;'></progress>\n",
       "      80.00% [8/10 00:47<00:11]\n",
       "    </div>\n",
       "    \n",
       "<table border=\"1\" class=\"dataframe\">\n",
       "  <thead>\n",
       "    <tr style=\"text-align: left;\">\n",
       "      <th>epoch</th>\n",
       "      <th>train_loss</th>\n",
       "      <th>valid_loss</th>\n",
       "      <th>dice_multi</th>\n",
       "      <th>foreground_acc</th>\n",
       "      <th>time</th>\n",
       "    </tr>\n",
       "  </thead>\n",
       "  <tbody>\n",
       "    <tr>\n",
       "      <td>0</td>\n",
       "      <td>2.150888</td>\n",
       "      <td>1.486428</td>\n",
       "      <td>0.072149</td>\n",
       "      <td>0.571200</td>\n",
       "      <td>00:05</td>\n",
       "    </tr>\n",
       "    <tr>\n",
       "      <td>1</td>\n",
       "      <td>1.547103</td>\n",
       "      <td>1.171696</td>\n",
       "      <td>0.107280</td>\n",
       "      <td>0.602114</td>\n",
       "      <td>00:05</td>\n",
       "    </tr>\n",
       "    <tr>\n",
       "      <td>2</td>\n",
       "      <td>1.290867</td>\n",
       "      <td>1.061671</td>\n",
       "      <td>0.134800</td>\n",
       "      <td>0.676842</td>\n",
       "      <td>00:06</td>\n",
       "    </tr>\n",
       "    <tr>\n",
       "      <td>3</td>\n",
       "      <td>1.119405</td>\n",
       "      <td>0.917001</td>\n",
       "      <td>0.165706</td>\n",
       "      <td>0.728370</td>\n",
       "      <td>00:05</td>\n",
       "    </tr>\n",
       "    <tr>\n",
       "      <td>4</td>\n",
       "      <td>0.979992</td>\n",
       "      <td>0.850557</td>\n",
       "      <td>0.220480</td>\n",
       "      <td>0.744956</td>\n",
       "      <td>00:05</td>\n",
       "    </tr>\n",
       "    <tr>\n",
       "      <td>5</td>\n",
       "      <td>0.873434</td>\n",
       "      <td>0.780932</td>\n",
       "      <td>0.238645</td>\n",
       "      <td>0.766857</td>\n",
       "      <td>00:06</td>\n",
       "    </tr>\n",
       "    <tr>\n",
       "      <td>6</td>\n",
       "      <td>0.784772</td>\n",
       "      <td>0.737917</td>\n",
       "      <td>0.257262</td>\n",
       "      <td>0.783211</td>\n",
       "      <td>00:05</td>\n",
       "    </tr>\n",
       "    <tr>\n",
       "      <td>7</td>\n",
       "      <td>0.719835</td>\n",
       "      <td>0.716319</td>\n",
       "      <td>0.281181</td>\n",
       "      <td>0.786466</td>\n",
       "      <td>00:05</td>\n",
       "    </tr>\n",
       "  </tbody>\n",
       "</table><p>\n",
       "\n",
       "    <div>\n",
       "        <style>\n",
       "            /* Turns off some styling */\n",
       "            progress {\n",
       "                /* gets rid of default border in Firefox and Opera. */\n",
       "                border: none;\n",
       "                /* Needs to be in here for Safari polyfill so background images work as expected. */\n",
       "                background-size: auto;\n",
       "            }\n",
       "            .progress-bar-interrupted, .progress-bar-interrupted::-webkit-progress-bar {\n",
       "                background: #F44336;\n",
       "            }\n",
       "        </style>\n",
       "      <progress value='0' class='' max='9' style='width:300px; height:20px; vertical-align: middle;'></progress>\n",
       "      0.00% [0/9 00:00<00:00]\n",
       "    </div>\n",
       "    "
      ],
      "text/plain": [
       "<IPython.core.display.HTML object>"
      ]
     },
     "metadata": {},
     "output_type": "display_data"
    },
    {
     "name": "stderr",
     "output_type": "stream",
     "text": [
      "Exception ignored in: <function _releaseLock at 0x7f85733f23a0>\n",
      "Traceback (most recent call last):\n",
      "  File \"/home/paperspace/mambaforge/envs/fastai/lib/python3.9/logging/__init__.py\", line 227, in _releaseLock\n",
      "    def _releaseLock():\n",
      "KeyboardInterrupt: \n"
     ]
    },
    {
     "ename": "RuntimeError",
     "evalue": "DataLoader worker (pid(s) 20016) exited unexpectedly",
     "output_type": "error",
     "traceback": [
      "\u001b[0;31m---------------------------------------------------------------------------\u001b[0m",
      "\u001b[0;31mEmpty\u001b[0m                                     Traceback (most recent call last)",
      "File \u001b[0;32m~/mambaforge/envs/fastai/lib/python3.9/site-packages/torch/utils/data/dataloader.py:990\u001b[0m, in \u001b[0;36m_MultiProcessingDataLoaderIter._try_get_data\u001b[0;34m(self, timeout)\u001b[0m\n\u001b[1;32m    989\u001b[0m \u001b[38;5;28;01mtry\u001b[39;00m:\n\u001b[0;32m--> 990\u001b[0m     data \u001b[38;5;241m=\u001b[39m \u001b[38;5;28;43mself\u001b[39;49m\u001b[38;5;241;43m.\u001b[39;49m\u001b[43m_data_queue\u001b[49m\u001b[38;5;241;43m.\u001b[39;49m\u001b[43mget\u001b[49m\u001b[43m(\u001b[49m\u001b[43mtimeout\u001b[49m\u001b[38;5;241;43m=\u001b[39;49m\u001b[43mtimeout\u001b[49m\u001b[43m)\u001b[49m\n\u001b[1;32m    991\u001b[0m     \u001b[38;5;28;01mreturn\u001b[39;00m (\u001b[38;5;28;01mTrue\u001b[39;00m, data)\n",
      "File \u001b[0;32m~/mambaforge/envs/fastai/lib/python3.9/multiprocessing/queues.py:114\u001b[0m, in \u001b[0;36mQueue.get\u001b[0;34m(self, block, timeout)\u001b[0m\n\u001b[1;32m    113\u001b[0m     \u001b[38;5;28;01mif\u001b[39;00m \u001b[38;5;129;01mnot\u001b[39;00m \u001b[38;5;28mself\u001b[39m\u001b[38;5;241m.\u001b[39m_poll(timeout):\n\u001b[0;32m--> 114\u001b[0m         \u001b[38;5;28;01mraise\u001b[39;00m Empty\n\u001b[1;32m    115\u001b[0m \u001b[38;5;28;01melif\u001b[39;00m \u001b[38;5;129;01mnot\u001b[39;00m \u001b[38;5;28mself\u001b[39m\u001b[38;5;241m.\u001b[39m_poll():\n",
      "\u001b[0;31mEmpty\u001b[0m: ",
      "\nThe above exception was the direct cause of the following exception:\n",
      "\u001b[0;31mRuntimeError\u001b[0m                              Traceback (most recent call last)",
      "Input \u001b[0;32mIn [133]\u001b[0m, in \u001b[0;36m<module>\u001b[0;34m\u001b[0m\n\u001b[0;32m----> 1\u001b[0m \u001b[43mlearn2\u001b[49m\u001b[38;5;241;43m.\u001b[39;49m\u001b[43mfit_one_cycle\u001b[49m\u001b[43m(\u001b[49m\u001b[38;5;241;43m10\u001b[39;49m\u001b[43m,\u001b[49m\u001b[43m \u001b[49m\u001b[38;5;241;43m1e-2\u001b[39;49m\u001b[43m)\u001b[49m\n",
      "File \u001b[0;32m~/mambaforge/envs/fastai/lib/python3.9/site-packages/fastai/callback/schedule.py:116\u001b[0m, in \u001b[0;36mfit_one_cycle\u001b[0;34m(self, n_epoch, lr_max, div, div_final, pct_start, wd, moms, cbs, reset_opt)\u001b[0m\n\u001b[1;32m    113\u001b[0m lr_max \u001b[38;5;241m=\u001b[39m np\u001b[38;5;241m.\u001b[39marray([h[\u001b[38;5;124m'\u001b[39m\u001b[38;5;124mlr\u001b[39m\u001b[38;5;124m'\u001b[39m] \u001b[38;5;28;01mfor\u001b[39;00m h \u001b[38;5;129;01min\u001b[39;00m \u001b[38;5;28mself\u001b[39m\u001b[38;5;241m.\u001b[39mopt\u001b[38;5;241m.\u001b[39mhypers])\n\u001b[1;32m    114\u001b[0m scheds \u001b[38;5;241m=\u001b[39m {\u001b[38;5;124m'\u001b[39m\u001b[38;5;124mlr\u001b[39m\u001b[38;5;124m'\u001b[39m: combined_cos(pct_start, lr_max\u001b[38;5;241m/\u001b[39mdiv, lr_max, lr_max\u001b[38;5;241m/\u001b[39mdiv_final),\n\u001b[1;32m    115\u001b[0m           \u001b[38;5;124m'\u001b[39m\u001b[38;5;124mmom\u001b[39m\u001b[38;5;124m'\u001b[39m: combined_cos(pct_start, \u001b[38;5;241m*\u001b[39m(\u001b[38;5;28mself\u001b[39m\u001b[38;5;241m.\u001b[39mmoms \u001b[38;5;28;01mif\u001b[39;00m moms \u001b[38;5;129;01mis\u001b[39;00m \u001b[38;5;28;01mNone\u001b[39;00m \u001b[38;5;28;01melse\u001b[39;00m moms))}\n\u001b[0;32m--> 116\u001b[0m \u001b[38;5;28;43mself\u001b[39;49m\u001b[38;5;241;43m.\u001b[39;49m\u001b[43mfit\u001b[49m\u001b[43m(\u001b[49m\u001b[43mn_epoch\u001b[49m\u001b[43m,\u001b[49m\u001b[43m \u001b[49m\u001b[43mcbs\u001b[49m\u001b[38;5;241;43m=\u001b[39;49m\u001b[43mParamScheduler\u001b[49m\u001b[43m(\u001b[49m\u001b[43mscheds\u001b[49m\u001b[43m)\u001b[49m\u001b[38;5;241;43m+\u001b[39;49m\u001b[43mL\u001b[49m\u001b[43m(\u001b[49m\u001b[43mcbs\u001b[49m\u001b[43m)\u001b[49m\u001b[43m,\u001b[49m\u001b[43m \u001b[49m\u001b[43mreset_opt\u001b[49m\u001b[38;5;241;43m=\u001b[39;49m\u001b[43mreset_opt\u001b[49m\u001b[43m,\u001b[49m\u001b[43m \u001b[49m\u001b[43mwd\u001b[49m\u001b[38;5;241;43m=\u001b[39;49m\u001b[43mwd\u001b[49m\u001b[43m)\u001b[49m\n",
      "File \u001b[0;32m~/mambaforge/envs/fastai/lib/python3.9/site-packages/fastai/learner.py:221\u001b[0m, in \u001b[0;36mLearner.fit\u001b[0;34m(self, n_epoch, lr, wd, cbs, reset_opt)\u001b[0m\n\u001b[1;32m    219\u001b[0m \u001b[38;5;28mself\u001b[39m\u001b[38;5;241m.\u001b[39mopt\u001b[38;5;241m.\u001b[39mset_hypers(lr\u001b[38;5;241m=\u001b[39m\u001b[38;5;28mself\u001b[39m\u001b[38;5;241m.\u001b[39mlr \u001b[38;5;28;01mif\u001b[39;00m lr \u001b[38;5;129;01mis\u001b[39;00m \u001b[38;5;28;01mNone\u001b[39;00m \u001b[38;5;28;01melse\u001b[39;00m lr)\n\u001b[1;32m    220\u001b[0m \u001b[38;5;28mself\u001b[39m\u001b[38;5;241m.\u001b[39mn_epoch \u001b[38;5;241m=\u001b[39m n_epoch\n\u001b[0;32m--> 221\u001b[0m \u001b[38;5;28;43mself\u001b[39;49m\u001b[38;5;241;43m.\u001b[39;49m\u001b[43m_with_events\u001b[49m\u001b[43m(\u001b[49m\u001b[38;5;28;43mself\u001b[39;49m\u001b[38;5;241;43m.\u001b[39;49m\u001b[43m_do_fit\u001b[49m\u001b[43m,\u001b[49m\u001b[43m \u001b[49m\u001b[38;5;124;43m'\u001b[39;49m\u001b[38;5;124;43mfit\u001b[39;49m\u001b[38;5;124;43m'\u001b[39;49m\u001b[43m,\u001b[49m\u001b[43m \u001b[49m\u001b[43mCancelFitException\u001b[49m\u001b[43m,\u001b[49m\u001b[43m \u001b[49m\u001b[38;5;28;43mself\u001b[39;49m\u001b[38;5;241;43m.\u001b[39;49m\u001b[43m_end_cleanup\u001b[49m\u001b[43m)\u001b[49m\n",
      "File \u001b[0;32m~/mambaforge/envs/fastai/lib/python3.9/site-packages/fastai/learner.py:163\u001b[0m, in \u001b[0;36mLearner._with_events\u001b[0;34m(self, f, event_type, ex, final)\u001b[0m\n\u001b[1;32m    162\u001b[0m \u001b[38;5;28;01mdef\u001b[39;00m \u001b[38;5;21m_with_events\u001b[39m(\u001b[38;5;28mself\u001b[39m, f, event_type, ex, final\u001b[38;5;241m=\u001b[39mnoop):\n\u001b[0;32m--> 163\u001b[0m     \u001b[38;5;28;01mtry\u001b[39;00m: \u001b[38;5;28mself\u001b[39m(\u001b[38;5;124mf\u001b[39m\u001b[38;5;124m'\u001b[39m\u001b[38;5;124mbefore_\u001b[39m\u001b[38;5;132;01m{\u001b[39;00mevent_type\u001b[38;5;132;01m}\u001b[39;00m\u001b[38;5;124m'\u001b[39m);  \u001b[43mf\u001b[49m\u001b[43m(\u001b[49m\u001b[43m)\u001b[49m\n\u001b[1;32m    164\u001b[0m     \u001b[38;5;28;01mexcept\u001b[39;00m ex: \u001b[38;5;28mself\u001b[39m(\u001b[38;5;124mf\u001b[39m\u001b[38;5;124m'\u001b[39m\u001b[38;5;124mafter_cancel_\u001b[39m\u001b[38;5;132;01m{\u001b[39;00mevent_type\u001b[38;5;132;01m}\u001b[39;00m\u001b[38;5;124m'\u001b[39m)\n\u001b[1;32m    165\u001b[0m     \u001b[38;5;28mself\u001b[39m(\u001b[38;5;124mf\u001b[39m\u001b[38;5;124m'\u001b[39m\u001b[38;5;124mafter_\u001b[39m\u001b[38;5;132;01m{\u001b[39;00mevent_type\u001b[38;5;132;01m}\u001b[39;00m\u001b[38;5;124m'\u001b[39m);  final()\n",
      "File \u001b[0;32m~/mambaforge/envs/fastai/lib/python3.9/site-packages/fastai/learner.py:212\u001b[0m, in \u001b[0;36mLearner._do_fit\u001b[0;34m(self)\u001b[0m\n\u001b[1;32m    210\u001b[0m \u001b[38;5;28;01mfor\u001b[39;00m epoch \u001b[38;5;129;01min\u001b[39;00m \u001b[38;5;28mrange\u001b[39m(\u001b[38;5;28mself\u001b[39m\u001b[38;5;241m.\u001b[39mn_epoch):\n\u001b[1;32m    211\u001b[0m     \u001b[38;5;28mself\u001b[39m\u001b[38;5;241m.\u001b[39mepoch\u001b[38;5;241m=\u001b[39mepoch\n\u001b[0;32m--> 212\u001b[0m     \u001b[38;5;28;43mself\u001b[39;49m\u001b[38;5;241;43m.\u001b[39;49m\u001b[43m_with_events\u001b[49m\u001b[43m(\u001b[49m\u001b[38;5;28;43mself\u001b[39;49m\u001b[38;5;241;43m.\u001b[39;49m\u001b[43m_do_epoch\u001b[49m\u001b[43m,\u001b[49m\u001b[43m \u001b[49m\u001b[38;5;124;43m'\u001b[39;49m\u001b[38;5;124;43mepoch\u001b[39;49m\u001b[38;5;124;43m'\u001b[39;49m\u001b[43m,\u001b[49m\u001b[43m \u001b[49m\u001b[43mCancelEpochException\u001b[49m\u001b[43m)\u001b[49m\n",
      "File \u001b[0;32m~/mambaforge/envs/fastai/lib/python3.9/site-packages/fastai/learner.py:163\u001b[0m, in \u001b[0;36mLearner._with_events\u001b[0;34m(self, f, event_type, ex, final)\u001b[0m\n\u001b[1;32m    162\u001b[0m \u001b[38;5;28;01mdef\u001b[39;00m \u001b[38;5;21m_with_events\u001b[39m(\u001b[38;5;28mself\u001b[39m, f, event_type, ex, final\u001b[38;5;241m=\u001b[39mnoop):\n\u001b[0;32m--> 163\u001b[0m     \u001b[38;5;28;01mtry\u001b[39;00m: \u001b[38;5;28mself\u001b[39m(\u001b[38;5;124mf\u001b[39m\u001b[38;5;124m'\u001b[39m\u001b[38;5;124mbefore_\u001b[39m\u001b[38;5;132;01m{\u001b[39;00mevent_type\u001b[38;5;132;01m}\u001b[39;00m\u001b[38;5;124m'\u001b[39m);  \u001b[43mf\u001b[49m\u001b[43m(\u001b[49m\u001b[43m)\u001b[49m\n\u001b[1;32m    164\u001b[0m     \u001b[38;5;28;01mexcept\u001b[39;00m ex: \u001b[38;5;28mself\u001b[39m(\u001b[38;5;124mf\u001b[39m\u001b[38;5;124m'\u001b[39m\u001b[38;5;124mafter_cancel_\u001b[39m\u001b[38;5;132;01m{\u001b[39;00mevent_type\u001b[38;5;132;01m}\u001b[39;00m\u001b[38;5;124m'\u001b[39m)\n\u001b[1;32m    165\u001b[0m     \u001b[38;5;28mself\u001b[39m(\u001b[38;5;124mf\u001b[39m\u001b[38;5;124m'\u001b[39m\u001b[38;5;124mafter_\u001b[39m\u001b[38;5;132;01m{\u001b[39;00mevent_type\u001b[38;5;132;01m}\u001b[39;00m\u001b[38;5;124m'\u001b[39m);  final()\n",
      "File \u001b[0;32m~/mambaforge/envs/fastai/lib/python3.9/site-packages/fastai/learner.py:207\u001b[0m, in \u001b[0;36mLearner._do_epoch\u001b[0;34m(self)\u001b[0m\n\u001b[1;32m    205\u001b[0m \u001b[38;5;28;01mdef\u001b[39;00m \u001b[38;5;21m_do_epoch\u001b[39m(\u001b[38;5;28mself\u001b[39m):\n\u001b[1;32m    206\u001b[0m     \u001b[38;5;28mself\u001b[39m\u001b[38;5;241m.\u001b[39m_do_epoch_train()\n\u001b[0;32m--> 207\u001b[0m     \u001b[38;5;28;43mself\u001b[39;49m\u001b[38;5;241;43m.\u001b[39;49m\u001b[43m_do_epoch_validate\u001b[49m\u001b[43m(\u001b[49m\u001b[43m)\u001b[49m\n",
      "File \u001b[0;32m~/mambaforge/envs/fastai/lib/python3.9/site-packages/fastai/learner.py:203\u001b[0m, in \u001b[0;36mLearner._do_epoch_validate\u001b[0;34m(self, ds_idx, dl)\u001b[0m\n\u001b[1;32m    201\u001b[0m \u001b[38;5;28;01mif\u001b[39;00m dl \u001b[38;5;129;01mis\u001b[39;00m \u001b[38;5;28;01mNone\u001b[39;00m: dl \u001b[38;5;241m=\u001b[39m \u001b[38;5;28mself\u001b[39m\u001b[38;5;241m.\u001b[39mdls[ds_idx]\n\u001b[1;32m    202\u001b[0m \u001b[38;5;28mself\u001b[39m\u001b[38;5;241m.\u001b[39mdl \u001b[38;5;241m=\u001b[39m dl\n\u001b[0;32m--> 203\u001b[0m \u001b[38;5;28;01mwith\u001b[39;00m torch\u001b[38;5;241m.\u001b[39mno_grad(): \u001b[38;5;28;43mself\u001b[39;49m\u001b[38;5;241;43m.\u001b[39;49m\u001b[43m_with_events\u001b[49m\u001b[43m(\u001b[49m\u001b[38;5;28;43mself\u001b[39;49m\u001b[38;5;241;43m.\u001b[39;49m\u001b[43mall_batches\u001b[49m\u001b[43m,\u001b[49m\u001b[43m \u001b[49m\u001b[38;5;124;43m'\u001b[39;49m\u001b[38;5;124;43mvalidate\u001b[39;49m\u001b[38;5;124;43m'\u001b[39;49m\u001b[43m,\u001b[49m\u001b[43m \u001b[49m\u001b[43mCancelValidException\u001b[49m\u001b[43m)\u001b[49m\n",
      "File \u001b[0;32m~/mambaforge/envs/fastai/lib/python3.9/site-packages/fastai/learner.py:163\u001b[0m, in \u001b[0;36mLearner._with_events\u001b[0;34m(self, f, event_type, ex, final)\u001b[0m\n\u001b[1;32m    162\u001b[0m \u001b[38;5;28;01mdef\u001b[39;00m \u001b[38;5;21m_with_events\u001b[39m(\u001b[38;5;28mself\u001b[39m, f, event_type, ex, final\u001b[38;5;241m=\u001b[39mnoop):\n\u001b[0;32m--> 163\u001b[0m     \u001b[38;5;28;01mtry\u001b[39;00m: \u001b[38;5;28mself\u001b[39m(\u001b[38;5;124mf\u001b[39m\u001b[38;5;124m'\u001b[39m\u001b[38;5;124mbefore_\u001b[39m\u001b[38;5;132;01m{\u001b[39;00mevent_type\u001b[38;5;132;01m}\u001b[39;00m\u001b[38;5;124m'\u001b[39m);  \u001b[43mf\u001b[49m\u001b[43m(\u001b[49m\u001b[43m)\u001b[49m\n\u001b[1;32m    164\u001b[0m     \u001b[38;5;28;01mexcept\u001b[39;00m ex: \u001b[38;5;28mself\u001b[39m(\u001b[38;5;124mf\u001b[39m\u001b[38;5;124m'\u001b[39m\u001b[38;5;124mafter_cancel_\u001b[39m\u001b[38;5;132;01m{\u001b[39;00mevent_type\u001b[38;5;132;01m}\u001b[39;00m\u001b[38;5;124m'\u001b[39m)\n\u001b[1;32m    165\u001b[0m     \u001b[38;5;28mself\u001b[39m(\u001b[38;5;124mf\u001b[39m\u001b[38;5;124m'\u001b[39m\u001b[38;5;124mafter_\u001b[39m\u001b[38;5;132;01m{\u001b[39;00mevent_type\u001b[38;5;132;01m}\u001b[39;00m\u001b[38;5;124m'\u001b[39m);  final()\n",
      "File \u001b[0;32m~/mambaforge/envs/fastai/lib/python3.9/site-packages/fastai/learner.py:169\u001b[0m, in \u001b[0;36mLearner.all_batches\u001b[0;34m(self)\u001b[0m\n\u001b[1;32m    167\u001b[0m \u001b[38;5;28;01mdef\u001b[39;00m \u001b[38;5;21mall_batches\u001b[39m(\u001b[38;5;28mself\u001b[39m):\n\u001b[1;32m    168\u001b[0m     \u001b[38;5;28mself\u001b[39m\u001b[38;5;241m.\u001b[39mn_iter \u001b[38;5;241m=\u001b[39m \u001b[38;5;28mlen\u001b[39m(\u001b[38;5;28mself\u001b[39m\u001b[38;5;241m.\u001b[39mdl)\n\u001b[0;32m--> 169\u001b[0m     \u001b[38;5;28;01mfor\u001b[39;00m o \u001b[38;5;129;01min\u001b[39;00m \u001b[38;5;28menumerate\u001b[39m(\u001b[38;5;28mself\u001b[39m\u001b[38;5;241m.\u001b[39mdl): \u001b[38;5;28mself\u001b[39m\u001b[38;5;241m.\u001b[39mone_batch(\u001b[38;5;241m*\u001b[39mo)\n",
      "File \u001b[0;32m~/mambaforge/envs/fastai/lib/python3.9/site-packages/fastai/data/load.py:109\u001b[0m, in \u001b[0;36mDataLoader.__iter__\u001b[0;34m(self)\u001b[0m\n\u001b[1;32m    107\u001b[0m \u001b[38;5;28mself\u001b[39m\u001b[38;5;241m.\u001b[39mbefore_iter()\n\u001b[1;32m    108\u001b[0m \u001b[38;5;28mself\u001b[39m\u001b[38;5;241m.\u001b[39m__idxs\u001b[38;5;241m=\u001b[39m\u001b[38;5;28mself\u001b[39m\u001b[38;5;241m.\u001b[39mget_idxs() \u001b[38;5;66;03m# called in context of main process (not workers/subprocesses)\u001b[39;00m\n\u001b[0;32m--> 109\u001b[0m \u001b[38;5;28;01mfor\u001b[39;00m b \u001b[38;5;129;01min\u001b[39;00m _loaders[\u001b[38;5;28mself\u001b[39m\u001b[38;5;241m.\u001b[39mfake_l\u001b[38;5;241m.\u001b[39mnum_workers\u001b[38;5;241m==\u001b[39m\u001b[38;5;241m0\u001b[39m](\u001b[38;5;28mself\u001b[39m\u001b[38;5;241m.\u001b[39mfake_l):\n\u001b[1;32m    110\u001b[0m     \u001b[38;5;28;01mif\u001b[39;00m \u001b[38;5;28mself\u001b[39m\u001b[38;5;241m.\u001b[39mdevice \u001b[38;5;129;01mis\u001b[39;00m \u001b[38;5;129;01mnot\u001b[39;00m \u001b[38;5;28;01mNone\u001b[39;00m: b \u001b[38;5;241m=\u001b[39m to_device(b, \u001b[38;5;28mself\u001b[39m\u001b[38;5;241m.\u001b[39mdevice)\n\u001b[1;32m    111\u001b[0m     \u001b[38;5;28;01myield\u001b[39;00m \u001b[38;5;28mself\u001b[39m\u001b[38;5;241m.\u001b[39mafter_batch(b)\n",
      "File \u001b[0;32m~/mambaforge/envs/fastai/lib/python3.9/site-packages/torch/utils/data/dataloader.py:521\u001b[0m, in \u001b[0;36m_BaseDataLoaderIter.__next__\u001b[0;34m(self)\u001b[0m\n\u001b[1;32m    519\u001b[0m \u001b[38;5;28;01mif\u001b[39;00m \u001b[38;5;28mself\u001b[39m\u001b[38;5;241m.\u001b[39m_sampler_iter \u001b[38;5;129;01mis\u001b[39;00m \u001b[38;5;28;01mNone\u001b[39;00m:\n\u001b[1;32m    520\u001b[0m     \u001b[38;5;28mself\u001b[39m\u001b[38;5;241m.\u001b[39m_reset()\n\u001b[0;32m--> 521\u001b[0m data \u001b[38;5;241m=\u001b[39m \u001b[38;5;28;43mself\u001b[39;49m\u001b[38;5;241;43m.\u001b[39;49m\u001b[43m_next_data\u001b[49m\u001b[43m(\u001b[49m\u001b[43m)\u001b[49m\n\u001b[1;32m    522\u001b[0m \u001b[38;5;28mself\u001b[39m\u001b[38;5;241m.\u001b[39m_num_yielded \u001b[38;5;241m+\u001b[39m\u001b[38;5;241m=\u001b[39m \u001b[38;5;241m1\u001b[39m\n\u001b[1;32m    523\u001b[0m \u001b[38;5;28;01mif\u001b[39;00m \u001b[38;5;28mself\u001b[39m\u001b[38;5;241m.\u001b[39m_dataset_kind \u001b[38;5;241m==\u001b[39m _DatasetKind\u001b[38;5;241m.\u001b[39mIterable \u001b[38;5;129;01mand\u001b[39;00m \\\n\u001b[1;32m    524\u001b[0m         \u001b[38;5;28mself\u001b[39m\u001b[38;5;241m.\u001b[39m_IterableDataset_len_called \u001b[38;5;129;01mis\u001b[39;00m \u001b[38;5;129;01mnot\u001b[39;00m \u001b[38;5;28;01mNone\u001b[39;00m \u001b[38;5;129;01mand\u001b[39;00m \\\n\u001b[1;32m    525\u001b[0m         \u001b[38;5;28mself\u001b[39m\u001b[38;5;241m.\u001b[39m_num_yielded \u001b[38;5;241m>\u001b[39m \u001b[38;5;28mself\u001b[39m\u001b[38;5;241m.\u001b[39m_IterableDataset_len_called:\n",
      "File \u001b[0;32m~/mambaforge/envs/fastai/lib/python3.9/site-packages/torch/utils/data/dataloader.py:1186\u001b[0m, in \u001b[0;36m_MultiProcessingDataLoaderIter._next_data\u001b[0;34m(self)\u001b[0m\n\u001b[1;32m   1183\u001b[0m     \u001b[38;5;28;01mreturn\u001b[39;00m \u001b[38;5;28mself\u001b[39m\u001b[38;5;241m.\u001b[39m_process_data(data)\n\u001b[1;32m   1185\u001b[0m \u001b[38;5;28;01massert\u001b[39;00m \u001b[38;5;129;01mnot\u001b[39;00m \u001b[38;5;28mself\u001b[39m\u001b[38;5;241m.\u001b[39m_shutdown \u001b[38;5;129;01mand\u001b[39;00m \u001b[38;5;28mself\u001b[39m\u001b[38;5;241m.\u001b[39m_tasks_outstanding \u001b[38;5;241m>\u001b[39m \u001b[38;5;241m0\u001b[39m\n\u001b[0;32m-> 1186\u001b[0m idx, data \u001b[38;5;241m=\u001b[39m \u001b[38;5;28;43mself\u001b[39;49m\u001b[38;5;241;43m.\u001b[39;49m\u001b[43m_get_data\u001b[49m\u001b[43m(\u001b[49m\u001b[43m)\u001b[49m\n\u001b[1;32m   1187\u001b[0m \u001b[38;5;28mself\u001b[39m\u001b[38;5;241m.\u001b[39m_tasks_outstanding \u001b[38;5;241m-\u001b[39m\u001b[38;5;241m=\u001b[39m \u001b[38;5;241m1\u001b[39m\n\u001b[1;32m   1188\u001b[0m \u001b[38;5;28;01mif\u001b[39;00m \u001b[38;5;28mself\u001b[39m\u001b[38;5;241m.\u001b[39m_dataset_kind \u001b[38;5;241m==\u001b[39m _DatasetKind\u001b[38;5;241m.\u001b[39mIterable:\n\u001b[1;32m   1189\u001b[0m     \u001b[38;5;66;03m# Check for _IterableDatasetStopIteration\u001b[39;00m\n",
      "File \u001b[0;32m~/mambaforge/envs/fastai/lib/python3.9/site-packages/torch/utils/data/dataloader.py:1152\u001b[0m, in \u001b[0;36m_MultiProcessingDataLoaderIter._get_data\u001b[0;34m(self)\u001b[0m\n\u001b[1;32m   1148\u001b[0m     \u001b[38;5;66;03m# In this case, `self._data_queue` is a `queue.Queue`,. But we don't\u001b[39;00m\n\u001b[1;32m   1149\u001b[0m     \u001b[38;5;66;03m# need to call `.task_done()` because we don't use `.join()`.\u001b[39;00m\n\u001b[1;32m   1150\u001b[0m \u001b[38;5;28;01melse\u001b[39;00m:\n\u001b[1;32m   1151\u001b[0m     \u001b[38;5;28;01mwhile\u001b[39;00m \u001b[38;5;28;01mTrue\u001b[39;00m:\n\u001b[0;32m-> 1152\u001b[0m         success, data \u001b[38;5;241m=\u001b[39m \u001b[38;5;28;43mself\u001b[39;49m\u001b[38;5;241;43m.\u001b[39;49m\u001b[43m_try_get_data\u001b[49m\u001b[43m(\u001b[49m\u001b[43m)\u001b[49m\n\u001b[1;32m   1153\u001b[0m         \u001b[38;5;28;01mif\u001b[39;00m success:\n\u001b[1;32m   1154\u001b[0m             \u001b[38;5;28;01mreturn\u001b[39;00m data\n",
      "File \u001b[0;32m~/mambaforge/envs/fastai/lib/python3.9/site-packages/torch/utils/data/dataloader.py:1003\u001b[0m, in \u001b[0;36m_MultiProcessingDataLoaderIter._try_get_data\u001b[0;34m(self, timeout)\u001b[0m\n\u001b[1;32m   1001\u001b[0m \u001b[38;5;28;01mif\u001b[39;00m \u001b[38;5;28mlen\u001b[39m(failed_workers) \u001b[38;5;241m>\u001b[39m \u001b[38;5;241m0\u001b[39m:\n\u001b[1;32m   1002\u001b[0m     pids_str \u001b[38;5;241m=\u001b[39m \u001b[38;5;124m'\u001b[39m\u001b[38;5;124m, \u001b[39m\u001b[38;5;124m'\u001b[39m\u001b[38;5;241m.\u001b[39mjoin(\u001b[38;5;28mstr\u001b[39m(w\u001b[38;5;241m.\u001b[39mpid) \u001b[38;5;28;01mfor\u001b[39;00m w \u001b[38;5;129;01min\u001b[39;00m failed_workers)\n\u001b[0;32m-> 1003\u001b[0m     \u001b[38;5;28;01mraise\u001b[39;00m \u001b[38;5;167;01mRuntimeError\u001b[39;00m(\u001b[38;5;124m'\u001b[39m\u001b[38;5;124mDataLoader worker (pid(s) \u001b[39m\u001b[38;5;132;01m{}\u001b[39;00m\u001b[38;5;124m) exited unexpectedly\u001b[39m\u001b[38;5;124m'\u001b[39m\u001b[38;5;241m.\u001b[39mformat(pids_str)) \u001b[38;5;28;01mfrom\u001b[39;00m \u001b[38;5;21;01me\u001b[39;00m\n\u001b[1;32m   1004\u001b[0m \u001b[38;5;28;01mif\u001b[39;00m \u001b[38;5;28misinstance\u001b[39m(e, queue\u001b[38;5;241m.\u001b[39mEmpty):\n\u001b[1;32m   1005\u001b[0m     \u001b[38;5;28;01mreturn\u001b[39;00m (\u001b[38;5;28;01mFalse\u001b[39;00m, \u001b[38;5;28;01mNone\u001b[39;00m)\n",
      "\u001b[0;31mRuntimeError\u001b[0m: DataLoader worker (pid(s) 20016) exited unexpectedly"
     ]
    }
   ],
   "source": [
    "learn2.fit_one_cycle(10, 1e-2)"
   ]
  },
  {
   "cell_type": "code",
   "execution_count": null,
   "id": "3271c24c-36b7-4f74-bcc9-7e87bc6e7a45",
   "metadata": {},
   "outputs": [],
   "source": []
  }
 ],
 "metadata": {
  "kernelspec": {
   "display_name": "Python 3 (ipykernel)",
   "language": "python",
   "name": "python3"
  },
  "language_info": {
   "codemirror_mode": {
    "name": "ipython",
    "version": 3
   },
   "file_extension": ".py",
   "mimetype": "text/x-python",
   "name": "python",
   "nbconvert_exporter": "python",
   "pygments_lexer": "ipython3",
   "version": "3.9.9"
  }
 },
 "nbformat": 4,
 "nbformat_minor": 5
}
